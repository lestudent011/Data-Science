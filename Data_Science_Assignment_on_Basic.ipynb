{
 "cells": [
  {
   "cell_type": "markdown",
   "id": "d6e00a39-c86b-4350-b0df-520f4efea36e",
   "metadata": {},
   "source": [
    "## Assignment on Basic (June 7, 2025)\n",
    "\n",
    "#### By Lateef Olalekan Aderinoye\n",
    "\n",
    "#### **Assignment Goal:**\n",
    "- Practical simple logic, functions, and work with beginner-friendly features of NumPy, Pandas, and Matplotlib.\n",
    "\n",
    "### **Part 1: Core Python**\n",
    "\n",
    "#### Q1. Write a program that asks the user to enter two numbers and print:\n",
    "- their sum\n",
    "- their differences\n",
    "- their product."
   ]
  },
  {
   "cell_type": "code",
   "execution_count": 2,
   "id": "dda5ce7c-7bd3-419c-90dc-3ab1baa08dea",
   "metadata": {},
   "outputs": [
    {
     "name": "stdin",
     "output_type": "stream",
     "text": [
      "Enter one number 22\n",
      "Enter another number 12\n"
     ]
    },
    {
     "name": "stdout",
     "output_type": "stream",
     "text": [
      "The sum of x and y is: 34\n",
      "The difference between x and y is: 10\n",
      "The product of x and y is: 264\n"
     ]
    }
   ],
   "source": [
    "#Writing a program to perform calculations\n",
    "x = int(input('Enter one number')) #defined a float variable for the first number\n",
    "y = int(input('Enter another number')) #defined another variable for the second number to perform calculations\n",
    "\n",
    "print('The sum of x and y is:', (x+y))\n",
    "print('The difference between x and y is:', (x-y))\n",
    "print('The product of x and y is:', (x*y))"
   ]
  },
  {
   "cell_type": "markdown",
   "id": "e2970a92-5637-4604-9340-eda75b8b9fdf",
   "metadata": {},
   "source": [
    "#### Q2. List Basics\n",
    "- Create a list of your 5 favourite movies\n",
    "- Print each movie on a new line using a loop"
   ]
  },
  {
   "cell_type": "code",
   "execution_count": 3,
   "id": "e0372723-7739-4ba5-ab9f-a9f5a06a23a3",
   "metadata": {},
   "outputs": [
    {
     "name": "stdout",
     "output_type": "stream",
     "text": [
      "Lion_Heart\n",
      "October_1\n",
      "Blood_Sisters\n",
      "The_Wedding\n",
      "The_Black_Book\n"
     ]
    }
   ],
   "source": [
    "#Creating a list of five movies\n",
    "movie_list = ['Lion_Heart', 'October_1', 'Blood_Sisters', 'The_Wedding', 'The_Black_Book']\n",
    "movie_list\n",
    "\n",
    "\n",
    "#printing the movie names on a new line, in a Python loop\n",
    "for name in movie_list:\n",
    "    print(name)"
   ]
  },
  {
   "cell_type": "markdown",
   "id": "390c2664-07c6-4fc7-95dd-f44afeca4ade",
   "metadata": {},
   "source": [
    "#### Q3. Function Practice\n",
    "- Write a function called is_even() that checks if a is even or not"
   ]
  },
  {
   "cell_type": "code",
   "execution_count": 4,
   "id": "6bd5f6e2-8768-40e0-a3da-41354af495a2",
   "metadata": {},
   "outputs": [
    {
     "name": "stdin",
     "output_type": "stream",
     "text": [
      "The input number is: 3\n"
     ]
    },
    {
     "name": "stdout",
     "output_type": "stream",
     "text": [
      "3 is not even number.\n"
     ]
    }
   ],
   "source": [
    "#I am writing a function to detect even and odd numbers\n",
    "\n",
    "def is_even(num):    #The function is to accept a number at a time\n",
    "    if num %4 == 0:                         #this line of code will divide the number by 5.\n",
    "        print(f\"{num} is an even number.\")  #This line print if the number supplied is even\n",
    "    else:\n",
    "        print(f\"{num} is not even number.\")   #This line print if the number supplied is odd\n",
    "\n",
    "\n",
    "#Calling the function through Python input function\n",
    "num_input = int(input(\"The input number is:\"))\n",
    "is_even(num_input)"
   ]
  },
  {
   "cell_type": "markdown",
   "id": "05070626-65fa-400a-973a-dc4438d02a80",
   "metadata": {},
   "source": [
    "### **Part 2: NumPy Basics**\n",
    "\n",
    "#### Q4. Create and Work with arrays\n",
    "- Create a NumPy of 5 numbers of choice\n",
    "- Print the array, and then print the mean (average) of the numbers "
   ]
  },
  {
   "cell_type": "code",
   "execution_count": 5,
   "id": "0614da8f-92ef-4293-8bd1-5e4294fcb1e2",
   "metadata": {},
   "outputs": [
    {
     "name": "stdout",
     "output_type": "stream",
     "text": [
      "My array of one dimensional [ 2 20 10  8 40]\n",
      "Mean of the array is: 16.0\n"
     ]
    }
   ],
   "source": [
    "import numpy as np #importing numpy library\n",
    "\n",
    "arr_1 = np.array([2, 20, 10, 8, 40])               #Defining an array of five numbers\n",
    "\n",
    "print('My array of one dimensional', arr_1)\n",
    "print(\"Mean of the array is:\", np.mean(arr_1))     #Printing mean of the numbers"
   ]
  },
  {
   "cell_type": "markdown",
   "id": "50a616f0-98da-4a96-8ab0-ee80ab5ffb8c",
   "metadata": {},
   "source": [
    "### **Part 3: Pandas Basics**\n",
    "\n",
    "#### Q5. Create a Student Table\n",
    "- Create a DataFrame using pandas with names and scores of 3 students"
   ]
  },
  {
   "cell_type": "code",
   "execution_count": 6,
   "id": "58b66156-4262-4e00-a8e7-b3fbb988593f",
   "metadata": {},
   "outputs": [
    {
     "name": "stdout",
     "output_type": "stream",
     "text": [
      "     Name  Score\n",
      "0  Lateef     86\n",
      "1   Malik     80\n",
      "2  Toheeb     95\n"
     ]
    }
   ],
   "source": [
    "import pandas as pd     #importing pandas library as pd\n",
    "stud_data = {'Name': ['Lateef', 'Malik', 'Toheeb'],\n",
    "        'Score': [86, 80, 95]}             #Defining a dictionary to contain three student names and their scores\n",
    "\n",
    "stud_data = pd.DataFrame(stud_data)   #inserting the dictionary into a DataFrame\n",
    "print(stud_data)                      #print the DataFrame"
   ]
  },
  {
   "cell_type": "markdown",
   "id": "5dec663c-4cd9-42fb-b292-f9e33b4242f9",
   "metadata": {},
   "source": [
    "### **PART 4: Simple Visualization**\n",
    "#### Q6. Bar Chart of Scores\n",
    "- Use Matplotlib to create a bar chart of student names vs. their scores."
   ]
  },
  {
   "cell_type": "code",
   "execution_count": 7,
   "id": "a0156c0d-7a82-4e1c-9988-0ba12e94e6f9",
   "metadata": {},
   "outputs": [
    {
     "data": {
      "image/png": "[encoded data removed]",
      "text/plain": [
       "<Figure size 640x480 with 1 Axes>"
      ]
     },
     "metadata": {},
     "output_type": "display_data"
    }
   ],
   "source": [
    "import matplotlib.pyplot as plt  #import plotting library\n",
    "\n",
    "plt.bar(stud_data['Name'], stud_data['Score'])    #plotting x and y for comparison\n",
    "plt.title('Student Score')                       #plotting title\n",
    "plt.xlabel('Student Name')                                #putting Name on the x axis\n",
    "plt.ylabel('Scores')                               #putting Score on the y axis\n",
    "plt.show()                                        #displaying the bar chart"
   ]
  },
  {
   "cell_type": "markdown",
   "id": "bd251485-ae0e-4625-b89a-b7a11d49aa6e",
   "metadata": {},
   "source": [
    "## Summary:\n",
    "- In part one of the assignment, I performed the calculations using Python input function. I also created a list of five movie titles, printed the list according to the instructions, and lastly created a function that takes a number to check if it is even or odd, and I used the Python input function to print the number.\n",
    "\n",
    "- Part two of the assignment deals with NumPy array, a one-dimensional array of five numbers was created, the created array and mean (average) were printed.\n",
    "\n",
    "- Part three: a dictionary was created and inserted into a DataFrame using its library, then the data in  the DataFrame is printed, and\n",
    "\n",
    "- Part four, a bar chart to comparison the student scores in the DataFrame created in part three is plotted, using matplotlib library"
   ]
  },
  {
   "cell_type": "code",
   "execution_count": null,
   "id": "4d925f4a-0a3e-4047-a80d-79e6227296a8",
   "metadata": {},
   "outputs": [],
   "source": []
  }
 ],
 "metadata": {
  "kernelspec": {
   "display_name": "Python 3 (ipykernel)",
   "language": "python",
   "name": "python3"
  },
  "language_info": {
   "codemirror_mode": {
    "name": "ipython",
    "version": 3
   },
   "file_extension": ".py",
   "mimetype": "text/x-python",
   "name": "python",
   "nbconvert_exporter": "python",
   "pygments_lexer": "ipython3",
   "version": "3.9.21"
  }
 },
 "nbformat": 4,
 "nbformat_minor": 5
}
